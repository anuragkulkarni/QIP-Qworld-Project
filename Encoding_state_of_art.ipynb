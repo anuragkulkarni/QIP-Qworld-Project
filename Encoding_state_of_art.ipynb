{
  "nbformat": 4,
  "nbformat_minor": 0,
  "metadata": {
    "colab": {
      "provenance": [],
      "include_colab_link": true
    },
    "kernelspec": {
      "name": "python3",
      "display_name": "Python 3"
    },
    "language_info": {
      "name": "python"
    }
  },
  "cells": [
    {
      "cell_type": "markdown",
      "metadata": {
        "id": "view-in-github",
        "colab_type": "text"
      },
      "source": [
        "<a href=\"https://colab.research.google.com/github/anuragkulkarni/QIP-Qworld-Project/blob/main/Encoding_state_of_art.ipynb\" target=\"_parent\"><img src=\"https://colab.research.google.com/assets/colab-badge.svg\" alt=\"Open In Colab\"/></a>"
      ]
    },
    {
      "cell_type": "markdown",
      "source": [
        "# Implementing noise removal from images using quantum filtering involves **adapting classical filtering** techniques to quantum gates and operations from **ChatGPT**."
      ],
      "metadata": {
        "id": "ARu2K0OAFbep"
      }
    },
    {
      "cell_type": "code",
      "source": [],
      "metadata": {
        "id": "KYgVlYiOLlaS"
      },
      "execution_count": null,
      "outputs": []
    },
    {
      "cell_type": "code",
      "execution_count": null,
      "metadata": {
        "id": "POp2x9LkDVXF"
      },
      "outputs": [],
      "source": [
        "import numpy as np\n",
        "from PIL import Image\n",
        "import qiskit\n",
        "from qiskit import QuantumCircuit, QuantumRegister, ClassicalRegister, execute, Aer\n",
        "\n",
        "def apply_quantum_filter(image_path):\n",
        "    # Load the image and convert it to grayscale\n",
        "    image = Image.open(image_path).convert('L')\n",
        "\n",
        "    # Resize the image to a square shape (optional)\n",
        "    image = image.resize((256, 256), Image.ANTIALIAS)\n",
        "\n",
        "    # Convert the image to a numpy array\n",
        "    image_array = np.array(image)\n",
        "\n",
        "    # Define the quantum circuit\n",
        "    num_qubits = int(np.log2(image_array.shape[0]))\n",
        "    q = QuantumRegister(num_qubits)\n",
        "    c = ClassicalRegister(num_qubits)\n",
        "    qc = QuantumCircuit(q, c)\n",
        "\n",
        "    # Apply quantum gates for noise removal (example)\n",
        "    qc.h(q)\n",
        "    qc.x(q[0])\n",
        "    qc.cx(q[0], q[1])\n",
        "    qc.measure(q, c)\n",
        "\n",
        "    # Simulate the quantum circuit\n",
        "    simulator = Aer.get_backend('qasm_simulator')\n",
        "    job = execute(qc, simulator, shots=1)\n",
        "    result = job.result()\n",
        "    counts = result.get_counts(qc)\n",
        "\n",
        "    # Convert the measured counts to a filtered image\n",
        "    filtered_image = np.zeros_like(image_array)\n",
        "    for key, value in counts.items():\n",
        "        filtered_image[int(key[::-1], 2)] = value\n",
        "\n",
        "    # Convert the filtered image to PIL image format\n",
        "    filtered_image = Image.fromarray(filtered_image)\n",
        "\n",
        "    # Display the original and filtered images (optional)\n",
        "    image.show()\n",
        "    filtered_image.show()\n",
        "\n",
        "# Example usage\n",
        "apply_quantum_filter('image.jpg')"
      ]
    },
    {
      "cell_type": "markdown",
      "source": [
        "# I generated this code from **ChatGPT**. This code simply **enhances the resolution a 256x256 image**. It's just a simple approach. But still it needs some debugging."
      ],
      "metadata": {
        "id": "MyKw3j-yGJz8"
      }
    },
    {
      "cell_type": "code",
      "source": [
        "import numpy as np\n",
        "from PIL import Image\n",
        "import qiskit\n",
        "from qiskit import QuantumCircuit, QuantumRegister, ClassicalRegister, execute, Aer\n",
        "\n",
        "def apply_quantum_contrast_enhancement(image_path):\n",
        "    # Load the image and convert it to grayscale\n",
        "    image = Image.open(image_path).convert('L')\n",
        "\n",
        "    # Resize the image to a square shape (optional)\n",
        "    image = image.resize((256, 256), Image.ANTIALIAS)\n",
        "\n",
        "    # Convert the image to a numpy array\n",
        "    image_array = np.array(image)\n",
        "\n",
        "    # Define the quantum circuit\n",
        "    num_qubits = int(np.log2(image_array.shape[0]))\n",
        "    q = QuantumRegister(num_qubits)\n",
        "    c = ClassicalRegister(num_qubits)\n",
        "    qc = QuantumCircuit(q, c)\n",
        "\n",
        "    # Apply quantum gates for contrast enhancement (example)\n",
        "    qc.h(q)\n",
        "    qc.ry(np.pi/4, q)\n",
        "    qc.measure(q, c)\n",
        "\n",
        "    # Simulate the quantum circuit\n",
        "    simulator = Aer.get_backend('qasm_simulator')\n",
        "    job = execute(qc, simulator, shots=1)\n",
        "    result = job.result()\n",
        "    counts = result.get_counts(qc)\n",
        "\n",
        "    # Convert the measured counts to an enhanced image\n",
        "    enhanced_image = np.zeros_like(image_array)\n",
        "    for key, value in counts.items():\n",
        "        enhanced_image[int(key[::-1], 2)] = value\n",
        "\n",
        "    # Convert the enhanced image to PIL image format\n",
        "    enhanced_image = Image.fromarray(enhanced_image)\n",
        "\n",
        "    # Display the original and enhanced images (optional)\n",
        "    image.show()\n",
        "    enhanced_image.show()\n",
        "\n",
        "# Example usage\n",
        "apply_quantum_contrast_enhancement('image.jpg')"
      ],
      "metadata": {
        "id": "NiZdv5STF8RS"
      },
      "execution_count": null,
      "outputs": []
    },
    {
      "cell_type": "markdown",
      "source": [
        "# **RED-ADMM-De-QuIP (Single image super-resolution algorithm)**.\n",
        "The following script shows an example of a single image super-resolution algorithm (RED+ADMM+De-QuIP) using the quantum adaptive denoiser Denoising by Quantum Interactive Patches (De-QuIP) in a Regularization by Denoising (RED) approache with the ADMM framework. The github repository can be accessed through this link: [https://github.com/SayantanDutta95/RED-ADMM-De-QuIP](https://github.com/SayantanDutta95/RED-ADMM-De-QuIP)\n",
        "\n",
        "\n",
        "\n",
        "\n",
        "---\n",
        "\n",
        "\n"
      ],
      "metadata": {
        "id": "8EwMpGfUG2Og"
      }
    },
    {
      "cell_type": "markdown",
      "source": [
        "# **De-QuIP-Denoising (Denoising by Quantum Interactive Patches).**\n",
        "The following script shows an example of our image denoising algorithm. The github repository can be accessed through this link: [https://github.com/SayantanDutta95/De-QuIP-Denoising](https://github.com/SayantanDutta95/De-QuIP-Denoising)\n",
        "\n",
        "\n",
        "\n",
        "---\n",
        "\n"
      ],
      "metadata": {
        "id": "xZHIe03SLQl_"
      }
    },
    {
      "cell_type": "markdown",
      "source": [
        "# **QAB-PnP-ADMM-Deconvolution.**\n",
        "Plug-and-Play **ADMM** scheme based on an **adaptive denoiser** using the Schroedinger equation's solutions of quantum physics. The following script shows an example of our image deconvolution algorithm using **Quantum Adaptive Basis (QAB)** as a plug-and-play denoiser in the **ADMM** framework. The github repository can be accessed through this link: [https://github.com/SayantanDutta95/QAB-PnP-ADMM-Deconvolution](https://github.com/SayantanDutta95/QAB-PnP-ADMM-Deconvolution)\n",
        "\n",
        "\n",
        "\n",
        "---\n",
        "\n"
      ],
      "metadata": {
        "id": "NaCf2ddpLv6g"
      }
    },
    {
      "cell_type": "markdown",
      "source": [
        "# **OLSQ2: Scalable Optimal Layout Synthesis for NISQ Quantum Processors.**\n",
        "Many quantum computers have constraints on the connections between qubits. However, a quantum program may not conform to these constraints. Thus, it is necessary to perform 'quantum layout synthesis', QLS, which transforms quantum programs prior to execution so that the connectivity issues are resolved.\n",
        "\n",
        "OLSQ2 can solve QLS optimally with respect to depth and number of SWAP gates. There is also a transition-based mode (TB) to speed it up with little loss of optimality.\n",
        "\n",
        "The github repository can be accessed through this link: [https://github.com/UCLA-VAST/OLSQ2](https://github.com/UCLA-VAST/OLSQ2)\n",
        "\n",
        "\n",
        "---\n",
        "\n",
        "\n",
        "\n"
      ],
      "metadata": {
        "id": "_VeR3SyYNn7p"
      }
    },
    {
      "cell_type": "markdown",
      "source": [
        "Here, I'm sharing the portfolio of a person whose name is **Sayantan Dutta**. He is a Postdoctoral Associate in **Quantitative Ultrasound**, Department of **Radiology**, **Weill Cornell Medical College**. This portfolio contains his past papers on **QIP** in various applications and techniques. You can also find the code of some papers by clicking **(code)**, which contains the link of the github repo of that respective paper. Most of the available code are already shared above. If there is still any repo left unexplored, you may go through it.\n",
        "\n",
        "The link his portfolio is: [https://sayantandutta110.wixsite.com/rjd-infinity](https://sayantandutta110.wixsite.com/rjd-infinity)"
      ],
      "metadata": {
        "id": "e992oXJ8OHDO"
      }
    }
  ]
}