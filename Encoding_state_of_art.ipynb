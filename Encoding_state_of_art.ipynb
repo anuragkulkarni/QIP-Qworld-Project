{
  "nbformat": 4,
  "nbformat_minor": 0,
  "metadata": {
    "colab": {
      "provenance": [],
      "include_colab_link": true
    },
    "kernelspec": {
      "name": "python3",
      "display_name": "Python 3"
    },
    "language_info": {
      "name": "python"
    }
  },
  "cells": [
    {
      "cell_type": "markdown",
      "metadata": {
        "id": "view-in-github",
        "colab_type": "text"
      },
      "source": [
        "<a href=\"https://colab.research.google.com/github/anuragkulkarni/QIP-Qworld-Project/blob/main/Encoding_state_of_art.ipynb\" target=\"_parent\"><img src=\"https://colab.research.google.com/assets/colab-badge.svg\" alt=\"Open In Colab\"/></a>"
      ]
    },
    {
      "cell_type": "markdown",
      "source": [
        "# Implementing noise removal from images using quantum filtering involves **adapting classical filtering** techniques to quantum gates and operations from **ChatGPT**."
      ],
      "metadata": {
        "id": "ARu2K0OAFbep"
      }
    },
    {
      "cell_type": "code",
      "execution_count": null,
      "metadata": {
        "id": "POp2x9LkDVXF"
      },
      "outputs": [],
      "source": [
        "import numpy as np\n",
        "from PIL import Image\n",
        "import qiskit\n",
        "from qiskit import QuantumCircuit, QuantumRegister, ClassicalRegister, execute, Aer\n",
        "\n",
        "def apply_quantum_filter(image_path):\n",
        "    # Load the image and convert it to grayscale\n",
        "    image = Image.open(image_path).convert('L')\n",
        "\n",
        "    # Resize the image to a square shape (optional)\n",
        "    image = image.resize((256, 256), Image.ANTIALIAS)\n",
        "\n",
        "    # Convert the image to a numpy array\n",
        "    image_array = np.array(image)\n",
        "\n",
        "    # Define the quantum circuit\n",
        "    num_qubits = int(np.log2(image_array.shape[0]))\n",
        "    q = QuantumRegister(num_qubits)\n",
        "    c = ClassicalRegister(num_qubits)\n",
        "    qc = QuantumCircuit(q, c)\n",
        "\n",
        "    # Apply quantum gates for noise removal (example)\n",
        "    qc.h(q)\n",
        "    qc.x(q[0])\n",
        "    qc.cx(q[0], q[1])\n",
        "    qc.measure(q, c)\n",
        "\n",
        "    # Simulate the quantum circuit\n",
        "    simulator = Aer.get_backend('qasm_simulator')\n",
        "    job = execute(qc, simulator, shots=1)\n",
        "    result = job.result()\n",
        "    counts = result.get_counts(qc)\n",
        "\n",
        "    # Convert the measured counts to a filtered image\n",
        "    filtered_image = np.zeros_like(image_array)\n",
        "    for key, value in counts.items():\n",
        "        filtered_image[int(key[::-1], 2)] = value\n",
        "\n",
        "    # Convert the filtered image to PIL image format\n",
        "    filtered_image = Image.fromarray(filtered_image)\n",
        "\n",
        "    # Display the original and filtered images (optional)\n",
        "    image.show()\n",
        "    filtered_image.show()\n",
        "\n",
        "# Example usage\n",
        "apply_quantum_filter('image.jpg')"
      ]
    },
    {
      "cell_type": "markdown",
      "source": [
        "# I generated this code from **ChatGPT**. This code simply **enhances the resolution a 256x256 image**. It's just a simple approach. But still it needs some debugging."
      ],
      "metadata": {
        "id": "MyKw3j-yGJz8"
      }
    },
    {
      "cell_type": "code",
      "source": [
        "import numpy as np\n",
        "from PIL import Image\n",
        "import qiskit\n",
        "from qiskit import QuantumCircuit, QuantumRegister, ClassicalRegister, execute, Aer\n",
        "\n",
        "def apply_quantum_contrast_enhancement(image_path):\n",
        "    # Load the image and convert it to grayscale\n",
        "    image = Image.open(image_path).convert('L')\n",
        "\n",
        "    # Resize the image to a square shape (optional)\n",
        "    image = image.resize((256, 256), Image.ANTIALIAS)\n",
        "\n",
        "    # Convert the image to a numpy array\n",
        "    image_array = np.array(image)\n",
        "\n",
        "    # Define the quantum circuit\n",
        "    num_qubits = int(np.log2(image_array.shape[0]))\n",
        "    q = QuantumRegister(num_qubits)\n",
        "    c = ClassicalRegister(num_qubits)\n",
        "    qc = QuantumCircuit(q, c)\n",
        "\n",
        "    # Apply quantum gates for contrast enhancement (example)\n",
        "    qc.h(q)\n",
        "    qc.ry(np.pi/4, q)\n",
        "    qc.measure(q, c)\n",
        "\n",
        "    # Simulate the quantum circuit\n",
        "    simulator = Aer.get_backend('qasm_simulator')\n",
        "    job = execute(qc, simulator, shots=1)\n",
        "    result = job.result()\n",
        "    counts = result.get_counts(qc)\n",
        "\n",
        "    # Convert the measured counts to an enhanced image\n",
        "    enhanced_image = np.zeros_like(image_array)\n",
        "    for key, value in counts.items():\n",
        "        enhanced_image[int(key[::-1], 2)] = value\n",
        "\n",
        "    # Convert the enhanced image to PIL image format\n",
        "    enhanced_image = Image.fromarray(enhanced_image)\n",
        "\n",
        "    # Display the original and enhanced images (optional)\n",
        "    image.show()\n",
        "    enhanced_image.show()\n",
        "\n",
        "# Example usage\n",
        "apply_quantum_contrast_enhancement('image.jpg')"
      ],
      "metadata": {
        "id": "NiZdv5STF8RS"
      },
      "execution_count": null,
      "outputs": []
    },
    {
      "cell_type": "markdown",
      "source": [
        "# **RED-ADMM-De-QuIP (Single image super-resolution algorithm)**.\n",
        "The following script shows an example of a single image super-resolution algorithm (RED+ADMM+De-QuIP) using the quantum adaptive denoiser Denoising by Quantum Interactive Patches (De-QuIP) in a Regularization by Denoising (RED) approache with the ADMM framework. The github repository can be accessed through this link: [https://github.com/SayantanDutta95/RED-ADMM-De-QuIP](https://github.com/SayantanDutta95/RED-ADMM-De-QuIP)\n",
        "\n",
        "\n",
        "\n",
        "\n",
        "---\n",
        "\n",
        "\n"
      ],
      "metadata": {
        "id": "8EwMpGfUG2Og"
      }
    },
    {
      "cell_type": "markdown",
      "source": [
        "# **De-QuIP-Denoising (Denoising by Quantum Interactive Patches).**\n",
        "The following script shows an example of our image denoising algorithm. The github repository can be accessed through this link: [https://github.com/SayantanDutta95/De-QuIP-Denoising](https://github.com/SayantanDutta95/De-QuIP-Denoising)\n",
        "\n",
        "\n",
        "\n",
        "---\n",
        "\n"
      ],
      "metadata": {
        "id": "xZHIe03SLQl_"
      }
    },
    {
      "cell_type": "markdown",
      "source": [
        "# **QAB-PnP-ADMM-Deconvolution.**\n",
        "Plug-and-Play **ADMM** scheme based on an **adaptive denoiser** using the Schroedinger equation's solutions of quantum physics. The following script shows an example of our image deconvolution algorithm using **Quantum Adaptive Basis (QAB)** as a plug-and-play denoiser in the **ADMM** framework. The github repository can be accessed through this link: [https://github.com/SayantanDutta95/QAB-PnP-ADMM-Deconvolution](https://github.com/SayantanDutta95/QAB-PnP-ADMM-Deconvolution)\n",
        "\n",
        "\n",
        "\n",
        "---\n",
        "\n"
      ],
      "metadata": {
        "id": "NaCf2ddpLv6g"
      }
    },
    {
      "cell_type": "markdown",
      "source": [
        "# **OLSQ2: Scalable Optimal Layout Synthesis for NISQ Quantum Processors.**\n",
        "Many quantum computers have constraints on the connections between qubits. However, a quantum program may not conform to these constraints. Thus, it is necessary to perform 'quantum layout synthesis', QLS, which transforms quantum programs prior to execution so that the connectivity issues are resolved.\n",
        "\n",
        "OLSQ2 can solve QLS optimally with respect to depth and number of SWAP gates. There is also a transition-based mode (TB) to speed it up with little loss of optimality.\n",
        "\n",
        "The github repository can be accessed through this link: [https://github.com/UCLA-VAST/OLSQ2](https://github.com/UCLA-VAST/OLSQ2)\n",
        "\n",
        "\n",
        "---\n",
        "\n",
        "\n",
        "\n"
      ],
      "metadata": {
        "id": "_VeR3SyYNn7p"
      }
    },
    {
      "cell_type": "markdown",
      "source": [
        "Here, I'm sharing the portfolio of a person whose name is **Sayantan Dutta**. He is a Postdoctoral Associate in **Quantitative Ultrasound**, Department of **Radiology**, **Weill Cornell Medical College**. This portfolio contains his past papers on **QIP** in various applications and techniques. You can also find the code of some papers by clicking **(code)**, which contains the link of the github repo of that respective paper. Most of the available code are already shared above. If there is still any repo left unexplored, you may go through it.\n",
        "\n",
        "The link his portfolio is: [https://sayantandutta110.wixsite.com/rjd-infinity](https://sayantandutta110.wixsite.com/rjd-infinity)"
      ],
      "metadata": {
        "id": "e992oXJ8OHDO"
      }
    },
    {
      "cell_type": "markdown",
      "source": [
        "## **INCQI Scheme for grayscale images**"
      ],
      "metadata": {
        "id": "68G0_zKsqQkZ"
      }
    },
    {
      "cell_type": "code",
      "source": [
        "from qiskit import QuantumCircuit, QuantumRegister, ClassicalRegister, execute, Aer, transpile\n",
        "from qiskit.visualization import plot_histogram\n",
        "import numpy as np\n",
        "from qiskit.circuit.library.standard_gates import XGate"
      ],
      "metadata": {
        "id": "MhO_NZeQ8f31",
        "colab": {
          "base_uri": "https://localhost:8080/",
          "height": 356
        },
        "outputId": "e5f86fe6-3abf-4e65-9d46-7caa8b255d22"
      },
      "execution_count": null,
      "outputs": [
        {
          "output_type": "error",
          "ename": "ModuleNotFoundError",
          "evalue": "ignored",
          "traceback": [
            "\u001b[0;31m---------------------------------------------------------------------------\u001b[0m",
            "\u001b[0;31mModuleNotFoundError\u001b[0m                       Traceback (most recent call last)",
            "\u001b[0;32m<ipython-input-1-bf530576bd35>\u001b[0m in \u001b[0;36m<cell line: 1>\u001b[0;34m()\u001b[0m\n\u001b[0;32m----> 1\u001b[0;31m \u001b[0;32mfrom\u001b[0m \u001b[0mqiskit\u001b[0m \u001b[0;32mimport\u001b[0m \u001b[0mQuantumCircuit\u001b[0m\u001b[0;34m,\u001b[0m \u001b[0mQuantumRegister\u001b[0m\u001b[0;34m,\u001b[0m \u001b[0mClassicalRegister\u001b[0m\u001b[0;34m,\u001b[0m \u001b[0mexecute\u001b[0m\u001b[0;34m,\u001b[0m \u001b[0mAer\u001b[0m\u001b[0;34m,\u001b[0m \u001b[0mtranspile\u001b[0m\u001b[0;34m\u001b[0m\u001b[0;34m\u001b[0m\u001b[0m\n\u001b[0m\u001b[1;32m      2\u001b[0m \u001b[0;32mfrom\u001b[0m \u001b[0mqiskit\u001b[0m\u001b[0;34m.\u001b[0m\u001b[0mvisualization\u001b[0m \u001b[0;32mimport\u001b[0m \u001b[0mplot_histogram\u001b[0m\u001b[0;34m\u001b[0m\u001b[0;34m\u001b[0m\u001b[0m\n\u001b[1;32m      3\u001b[0m \u001b[0;32mimport\u001b[0m \u001b[0mnumpy\u001b[0m \u001b[0;32mas\u001b[0m \u001b[0mnp\u001b[0m\u001b[0;34m\u001b[0m\u001b[0;34m\u001b[0m\u001b[0m\n\u001b[1;32m      4\u001b[0m \u001b[0;32mfrom\u001b[0m \u001b[0mqiskit\u001b[0m\u001b[0;34m.\u001b[0m\u001b[0mcircuit\u001b[0m\u001b[0;34m.\u001b[0m\u001b[0mlibrary\u001b[0m\u001b[0;34m.\u001b[0m\u001b[0mstandard_gates\u001b[0m \u001b[0;32mimport\u001b[0m \u001b[0mXGate\u001b[0m\u001b[0;34m\u001b[0m\u001b[0;34m\u001b[0m\u001b[0m\n",
            "\u001b[0;31mModuleNotFoundError\u001b[0m: No module named 'qiskit'",
            "",
            "\u001b[0;31m---------------------------------------------------------------------------\u001b[0;32m\nNOTE: If your import is failing due to a missing package, you can\nmanually install dependencies using either !pip or !apt.\n\nTo view examples of installing some common dependencies, click the\n\"Open Examples\" button below.\n\u001b[0;31m---------------------------------------------------------------------------\u001b[0m\n"
          ],
          "errorDetails": {
            "actions": [
              {
                "action": "open_url",
                "actionText": "Open Examples",
                "url": "/notebooks/snippets/importing_libraries.ipynb"
              }
            ]
          }
        }
      ]
    },
    {
      "cell_type": "code",
      "source": [
        "def get_binary_zeros(num, width):\n",
        "    '''\n",
        "    Function to compute the indices where the binary representation of a number has 0\n",
        "    Useful to apply X gates to those qubits\n",
        "\n",
        "    Inputs:\n",
        "    num - number in decimal (to be converted to binary)\n",
        "    width - length of the binary string to be considered\n",
        "\n",
        "    Output:\n",
        "    idx - a list if bit positions with 0 in the binary representation of num\n",
        "    '''\n",
        "    b = np.binary_repr(num, width=width)\n",
        "    idx = [i for i, digit in enumerate(reversed(b)) if digit == '0']\n",
        "    return idx"
      ],
      "metadata": {
        "id": "bEnQEF-f9UNu"
      },
      "execution_count": null,
      "outputs": []
    },
    {
      "cell_type": "code",
      "source": [
        "def encode_grayscale_image(image):\n",
        "    '''\n",
        "    Function to encode grayscale image following INCQI scheme\n",
        "\n",
        "    Inputs:\n",
        "    Image - input grayscale image to be encoded (2D matrix of size n1 x n2)\n",
        "\n",
        "    Outputs:\n",
        "    circuit - a quantum circuit encoding image as per INCQI\n",
        "\n",
        "    '''\n",
        "\n",
        "    N1, N2 = image.shape       # image shape\n",
        "    n1 = int(np.ceil(np.log2(N1)))\n",
        "    n2 = int(np.ceil(np.log2(N2)))\n",
        "    q = int(np.ceil(np.log2(256)))    # bits to represent color\n",
        "    # assuming color values range from 0 to 255\n",
        "\n",
        "    color_reg = QuantumRegister(q, name='color')\n",
        "    row_reg = QuantumRegister(n1, name='row')\n",
        "    col_reg = QuantumRegister(n2, name='column')\n",
        "\n",
        "    color_creg = ClassicalRegister(q, name='color_meas')\n",
        "    row_creg = ClassicalRegister(n1, name='row_meas')\n",
        "    col_creg = ClassicalRegister(n2, name='column_meas')\n",
        "\n",
        "    circuit = QuantumCircuit(col_reg, row_reg, color_reg, col_creg, row_creg, color_creg)\n",
        "    # qiskit qubits are arranged from left to right\n",
        "\n",
        "    # Step 1 - Prepare equal superpositions of indices\n",
        "    circuit.h(row_reg)\n",
        "    circuit.h(col_reg)\n",
        "\n",
        "    mcnot = XGate().control(n1+n2)   # (n1+n2)-CNOT gate\n",
        "\n",
        "    # Step 2 - Encode image onto the circuit\n",
        "    for i in range(N1):\n",
        "        idx_row = get_binary_zeros(i, n1)  # Identify 0s in binary representation of row index i\n",
        "\n",
        "        for j in range(N2):\n",
        "\n",
        "            # Mark row index i by applying X gates to the bits with 0 in its binary representation to encode its color\n",
        "            if len(idx_row) > 0:\n",
        "                circuit.x(row_reg[idx_row])\n",
        "\n",
        "            # Identify 0s in binary representation of column index j\n",
        "            idx_col = get_binary_zeros(j, n2)\n",
        "\n",
        "            # Mark column index j by applying X gates to the bits with 0 in its binary representation to encode its color\n",
        "            if len(idx_col) > 0:\n",
        "                circuit.x(col_reg[idx_col])\n",
        "\n",
        "            # Identify 1s in color value of cell (i,j) and apply (n1+n2)-CNOT gate on those qubits\n",
        "            color_bin = np.binary_repr(image[i][j], width=q)\n",
        "\n",
        "            for idx, bit in enumerate(reversed(color_bin)):\n",
        "                if bit == '1':\n",
        "                    # Set this bit as the color value has 1 at this bit in its binary representation\n",
        "                    circuit.append(mcnot, row_reg[:] + col_reg[:] + [color_reg[idx]])\n",
        "\n",
        "            # Reset row and column index qubits for the next iteration (by unmarking the current indices)\n",
        "            if len(idx_col) > 0:\n",
        "                circuit.x(col_reg[idx_col])\n",
        "\n",
        "            if len(idx_row) > 0:\n",
        "                circuit.x(row_reg[idx_row])\n",
        "\n",
        "    circuit.barrier()\n",
        "\n",
        "    circuit.measure(color_reg, color_creg)\n",
        "    circuit.measure(row_reg, row_creg)\n",
        "    circuit.measure(col_reg, col_creg)\n",
        "\n",
        "    return circuit"
      ],
      "metadata": {
        "id": "k2ZAXWK2qFzk"
      },
      "execution_count": null,
      "outputs": []
    },
    {
      "cell_type": "code",
      "source": [
        "image = np.array([[0, 20, 50, 100],\n",
        "                  [120, 150, 200, 255]])\n",
        "circuit = encode_grayscale_image(image)\n",
        "circuit.draw('mpl')"
      ],
      "metadata": {
        "id": "1zz0yrZjqF2_"
      },
      "execution_count": null,
      "outputs": []
    },
    {
      "cell_type": "code",
      "source": [
        "job = execute(circuit, Aer.get_backend('qasm_simulator'), shots=1024)\n",
        "result = job.result()\n",
        "counts = result.get_counts()\n",
        "plot_histogram(counts)"
      ],
      "metadata": {
        "id": "u4VUPi6fqPC0"
      },
      "execution_count": null,
      "outputs": []
    }
  ]
}